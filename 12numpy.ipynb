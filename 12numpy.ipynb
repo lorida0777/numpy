{
 "cells": [
  {
   "cell_type": "code",
   "execution_count": 1,
   "id": "d1a1ae92-17fe-4116-9039-9391c1a14c3d",
   "metadata": {},
   "outputs": [],
   "source": [
    "import numpy as np"
   ]
  },
  {
   "cell_type": "code",
   "execution_count": 16,
   "id": "b3e6f8e4-35b2-454b-9d42-422ffca82f32",
   "metadata": {},
   "outputs": [
    {
     "data": {
      "text/plain": [
       "array([[5, 0, 3],\n",
       "       [3, 7, 9]])"
      ]
     },
     "execution_count": 16,
     "metadata": {},
     "output_type": "execute_result"
    }
   ],
   "source": [
    "np.random.seed(0)\n",
    "A = np.random.randint(0,10, [2,3])\n",
    "A"
   ]
  },
  {
   "cell_type": "markdown",
   "id": "18ea8cbd-b56c-4f12-a270-115383d7b6fe",
   "metadata": {},
   "source": [
    "# Méthodes ndarray"
   ]
  },
  {
   "cell_type": "code",
   "execution_count": 18,
   "id": "073784b8-48d9-4ed4-bcf6-4d7547b41e12",
   "metadata": {},
   "outputs": [
    {
     "data": {
      "text/plain": [
       "27"
      ]
     },
     "execution_count": 18,
     "metadata": {},
     "output_type": "execute_result"
    }
   ],
   "source": [
    "A.sum()"
   ]
  },
  {
   "cell_type": "code",
   "execution_count": 22,
   "id": "1bfe91f0-bdf5-41a4-b397-d40867d1a3a0",
   "metadata": {},
   "outputs": [
    {
     "data": {
      "text/plain": [
       "array([ 8,  7, 12])"
      ]
     },
     "execution_count": 22,
     "metadata": {},
     "output_type": "execute_result"
    }
   ],
   "source": [
    "A.sum(axis=0) \n",
    "# vertical |"
   ]
  },
  {
   "cell_type": "code",
   "execution_count": 24,
   "id": "c80c805c-6761-4fe6-ab32-54b6879e287a",
   "metadata": {},
   "outputs": [
    {
     "data": {
      "text/plain": [
       "array([ 8, 19])"
      ]
     },
     "execution_count": 24,
     "metadata": {},
     "output_type": "execute_result"
    }
   ],
   "source": [
    "A.sum(axis=1)\n",
    "# horizontal ----"
   ]
  },
  {
   "cell_type": "code",
   "execution_count": 42,
   "id": "3b0927c1-b257-4184-9b89-42f09dc2dd17",
   "metadata": {},
   "outputs": [
    {
     "data": {
      "text/plain": [
       "array([[ 5,  5,  8],\n",
       "       [ 3, 10, 19]])"
      ]
     },
     "execution_count": 42,
     "metadata": {},
     "output_type": "execute_result"
    }
   ],
   "source": [
    "A.cumsum(axis=1)"
   ]
  },
  {
   "cell_type": "code",
   "execution_count": 44,
   "id": "73073bd8-d1f2-4a44-b05b-7f48ad5607c4",
   "metadata": {},
   "outputs": [
    {
     "data": {
      "text/plain": [
       "array([15,  0, 27])"
      ]
     },
     "execution_count": 44,
     "metadata": {},
     "output_type": "execute_result"
    }
   ],
   "source": [
    "A.prod(axis=0)"
   ]
  },
  {
   "cell_type": "code",
   "execution_count": 46,
   "id": "6e0339bb-90d4-4d62-a881-c5737d444942",
   "metadata": {},
   "outputs": [
    {
     "data": {
      "text/plain": [
       "array([3, 0, 3])"
      ]
     },
     "execution_count": 46,
     "metadata": {},
     "output_type": "execute_result"
    }
   ],
   "source": [
    "A.min(axis=0)"
   ]
  },
  {
   "cell_type": "code",
   "execution_count": 54,
   "id": "3510ee37-bfb9-48df-86e4-7bcd63b42b27",
   "metadata": {},
   "outputs": [
    {
     "data": {
      "text/plain": [
       "array([0, 2], dtype=int64)"
      ]
     },
     "execution_count": 54,
     "metadata": {},
     "output_type": "execute_result"
    }
   ],
   "source": [
    "A.argmax(axis=1)\n",
    "# Retourne la position du max (arg)"
   ]
  },
  {
   "cell_type": "code",
   "execution_count": 71,
   "id": "6fb998f8-5049-4c96-bf2c-dbc6dab9e683",
   "metadata": {},
   "outputs": [
    {
     "data": {
      "text/plain": [
       "array([[0, 3, 5],\n",
       "       [3, 7, 9]])"
      ]
     },
     "execution_count": 71,
     "metadata": {},
     "output_type": "execute_result"
    }
   ],
   "source": [
    "# trie le tableau A\n",
    "A.sort()\n",
    "A"
   ]
  },
  {
   "cell_type": "code",
   "execution_count": null,
   "id": "4b7d6e5b-fd87-4715-9fd0-11e1e2e93968",
   "metadata": {},
   "outputs": [],
   "source": []
  }
 ],
 "metadata": {
  "kernelspec": {
   "display_name": "Python [conda env:base] *",
   "language": "python",
   "name": "conda-base-py"
  },
  "language_info": {
   "codemirror_mode": {
    "name": "ipython",
    "version": 3
   },
   "file_extension": ".py",
   "mimetype": "text/x-python",
   "name": "python",
   "nbconvert_exporter": "python",
   "pygments_lexer": "ipython3",
   "version": "3.12.7"
  }
 },
 "nbformat": 4,
 "nbformat_minor": 5
}
