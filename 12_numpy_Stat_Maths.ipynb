{
 "cells": [
  {
   "cell_type": "code",
   "execution_count": 1,
   "id": "ac25dfda-be98-4709-a2d7-0559855cc6cd",
   "metadata": {},
   "outputs": [],
   "source": [
    "import numpy as np "
   ]
  },
  {
   "cell_type": "code",
   "execution_count": 5,
   "id": "291dcc18-0f8d-4e0d-b4fa-ef1283330327",
   "metadata": {},
   "outputs": [
    {
     "data": {
      "text/plain": [
       "array([[5, 0, 3],\n",
       "       [3, 7, 9]])"
      ]
     },
     "execution_count": 5,
     "metadata": {},
     "output_type": "execute_result"
    }
   ],
   "source": [
    "np.random.seed(0)\n",
    "A= np.random.randint(0,10,[2,3])\n",
    "A"
   ]
  },
  {
   "cell_type": "markdown",
   "id": "1ea308ee-6747-4d31-91f5-4b1c1bc0a16d",
   "metadata": {},
   "source": [
    "# Méthodes ndarray"
   ]
  },
  {
   "cell_type": "code",
   "execution_count": 8,
   "id": "544c8aa4-1714-4e35-a9bf-3b2d0ebc6d26",
   "metadata": {},
   "outputs": [
    {
     "data": {
      "text/plain": [
       "27"
      ]
     },
     "execution_count": 8,
     "metadata": {},
     "output_type": "execute_result"
    }
   ],
   "source": [
    "A.sum()"
   ]
  },
  {
   "cell_type": "code",
   "execution_count": 10,
   "id": "63be2806-aaca-42bf-a3e9-76d590ab6740",
   "metadata": {},
   "outputs": [
    {
     "data": {
      "text/plain": [
       "array([ 8,  7, 12])"
      ]
     },
     "execution_count": 10,
     "metadata": {},
     "output_type": "execute_result"
    }
   ],
   "source": [
    "A.sum(axis=0)"
   ]
  },
  {
   "cell_type": "code",
   "execution_count": 12,
   "id": "b9a54ca0-7f15-4deb-8140-008aad0ced99",
   "metadata": {},
   "outputs": [
    {
     "data": {
      "text/plain": [
       "array([ 8, 19])"
      ]
     },
     "execution_count": 12,
     "metadata": {},
     "output_type": "execute_result"
    }
   ],
   "source": [
    "A.sum(axis=1)"
   ]
  },
  {
   "cell_type": "code",
   "execution_count": 14,
   "id": "0e87b59c-526d-4b12-ab4e-2e841ec55d9b",
   "metadata": {},
   "outputs": [
    {
     "data": {
      "text/plain": [
       "array([ 5,  5,  8, 11, 18, 27])"
      ]
     },
     "execution_count": 14,
     "metadata": {},
     "output_type": "execute_result"
    }
   ],
   "source": [
    "# Somme cumuler\n",
    "A.cumsum()"
   ]
  },
  {
   "cell_type": "code",
   "execution_count": 16,
   "id": "1ae2e890-f249-48d7-be21-12d7ec15b6d5",
   "metadata": {},
   "outputs": [
    {
     "data": {
      "text/plain": [
       "array([5, 0, 0, 0, 0, 0])"
      ]
     },
     "execution_count": 16,
     "metadata": {},
     "output_type": "execute_result"
    }
   ],
   "source": [
    "A.cumprod()"
   ]
  },
  {
   "cell_type": "code",
   "execution_count": 18,
   "id": "44cc3e92-8dfc-4054-8080-e59816037762",
   "metadata": {},
   "outputs": [
    {
     "data": {
      "text/plain": [
       "array([3, 0, 3])"
      ]
     },
     "execution_count": 18,
     "metadata": {},
     "output_type": "execute_result"
    }
   ],
   "source": [
    "A.min(axis=0)"
   ]
  },
  {
   "cell_type": "code",
   "execution_count": 22,
   "id": "e29e52a5-b613-4739-8d88-82eaea28d6bc",
   "metadata": {},
   "outputs": [
    {
     "data": {
      "text/plain": [
       "array([1, 0, 0], dtype=int64)"
      ]
     },
     "execution_count": 22,
     "metadata": {},
     "output_type": "execute_result"
    }
   ],
   "source": [
    "# Trouver la position du min\n",
    "A.argmin(axis=0)"
   ]
  },
  {
   "cell_type": "code",
   "execution_count": 24,
   "id": "08d6065a-ee3b-41fa-a523-fce85b4c017e",
   "metadata": {},
   "outputs": [
    {
     "data": {
      "text/plain": [
       "array([[1, 2, 0],\n",
       "       [0, 1, 2]], dtype=int64)"
      ]
     },
     "execution_count": 24,
     "metadata": {},
     "output_type": "execute_result"
    }
   ],
   "source": [
    "# A.argsort() retourne les index dans l'ordre de tri du tableau A, sans modifier le tableau A (il n'est pas trié)\n",
    "A.argsort()"
   ]
  },
  {
   "cell_type": "code",
   "execution_count": 26,
   "id": "18f2fdf6-2c42-4acb-972d-dacf9cf8dc94",
   "metadata": {},
   "outputs": [
    {
     "data": {
      "text/plain": [
       "array([[1.48413159e+02, 1.00000000e+00, 2.00855369e+01],\n",
       "       [2.00855369e+01, 1.09663316e+03, 8.10308393e+03]])"
      ]
     },
     "execution_count": 26,
     "metadata": {},
     "output_type": "execute_result"
    }
   ],
   "source": [
    "np.exp(A)"
   ]
  },
  {
   "cell_type": "code",
   "execution_count": 30,
   "id": "edc8c217-2cd4-4eb3-9f64-e53c84428cf1",
   "metadata": {},
   "outputs": [
    {
     "name": "stderr",
     "output_type": "stream",
     "text": [
      "C:\\Users\\hp\\AppData\\Local\\Temp\\ipykernel_41620\\2475394391.py:1: RuntimeWarning: divide by zero encountered in log\n",
      "  np.log(A)\n"
     ]
    },
    {
     "data": {
      "text/plain": [
       "array([[1.60943791,       -inf, 1.09861229],\n",
       "       [1.09861229, 1.94591015, 2.19722458]])"
      ]
     },
     "execution_count": 30,
     "metadata": {},
     "output_type": "execute_result"
    }
   ],
   "source": [
    "np.log(A)"
   ]
  },
  {
   "cell_type": "markdown",
   "id": "1a43918b-7e25-4821-af66-6222739e38b2",
   "metadata": {},
   "source": [
    "# Statistiques"
   ]
  },
  {
   "cell_type": "code",
   "execution_count": 34,
   "id": "dfb1fc84-9aa8-4f50-aa68-75d04aea7c08",
   "metadata": {},
   "outputs": [
    {
     "data": {
      "text/plain": [
       "array([[5, 0, 3],\n",
       "       [3, 7, 9]])"
      ]
     },
     "execution_count": 34,
     "metadata": {},
     "output_type": "execute_result"
    }
   ],
   "source": [
    "A "
   ]
  },
  {
   "cell_type": "code",
   "execution_count": 40,
   "id": "ca3754f6-5dc2-4a0e-8dc2-242a3c5d0abb",
   "metadata": {},
   "outputs": [
    {
     "data": {
      "text/plain": [
       "array([4. , 3.5, 6. ])"
      ]
     },
     "execution_count": 40,
     "metadata": {},
     "output_type": "execute_result"
    }
   ],
   "source": [
    "A.mean(axis=0)"
   ]
  },
  {
   "cell_type": "code",
   "execution_count": 42,
   "id": "137ab19d-b1f2-4acd-8324-be094d245d05",
   "metadata": {},
   "outputs": [
    {
     "data": {
      "text/plain": [
       "2.9297326385411577"
      ]
     },
     "execution_count": 42,
     "metadata": {},
     "output_type": "execute_result"
    }
   ],
   "source": [
    "# Ecart type\n",
    "A.std()"
   ]
  },
  {
   "cell_type": "code",
   "execution_count": 44,
   "id": "9e886d16-a0c9-4b5e-bbdd-6a4ae2ddce14",
   "metadata": {},
   "outputs": [
    {
     "data": {
      "text/plain": [
       "8.583333333333334"
      ]
     },
     "execution_count": 44,
     "metadata": {},
     "output_type": "execute_result"
    }
   ],
   "source": [
    "# Variance\n",
    "A.var()"
   ]
  },
  {
   "cell_type": "code",
   "execution_count": 52,
   "id": "838d69d5-4279-4dbb-a553-7894135765d9",
   "metadata": {},
   "outputs": [
    {
     "data": {
      "text/plain": [
       "-0.5636214801906779"
      ]
     },
     "execution_count": 52,
     "metadata": {},
     "output_type": "execute_result"
    }
   ],
   "source": [
    "# coefficient de correlation \n",
    "# indique la correlation qui existe entre les différentes lignes\n",
    "np.corrcoef(A)[0,1]"
   ]
  },
  {
   "cell_type": "code",
   "execution_count": 62,
   "id": "04837310-de80-4004-9db9-4236474348a7",
   "metadata": {},
   "outputs": [
    {
     "data": {
      "text/plain": [
       "array([[5, 0, 3, 3, 7],\n",
       "       [9, 3, 5, 2, 4],\n",
       "       [7, 6, 8, 8, 1],\n",
       "       [6, 7, 7, 8, 1],\n",
       "       [5, 9, 8, 9, 4]])"
      ]
     },
     "execution_count": 62,
     "metadata": {},
     "output_type": "execute_result"
    }
   ],
   "source": [
    "np.random.seed(0)\n",
    "B = np.random.randint(0,10,[5,5])\n",
    "B"
   ]
  },
  {
   "cell_type": "code",
   "execution_count": 64,
   "id": "cdc62a25-40c6-4a5f-8a1e-9d9a9321b0ef",
   "metadata": {},
   "outputs": [],
   "source": [
    "# Compter le nombre de fois qu'un valeur répète dans un tableau numpy\n",
    "values, counts = np.unique(B,return_counts=True)"
   ]
  },
  {
   "cell_type": "code",
   "execution_count": 70,
   "id": "5a074a67-93eb-456b-9371-96bc1d8b7fd9",
   "metadata": {},
   "outputs": [
    {
     "data": {
      "text/plain": [
       "array([0, 2, 1, 4, 6, 3, 5, 9, 7, 8])"
      ]
     },
     "execution_count": 70,
     "metadata": {},
     "output_type": "execute_result"
    }
   ],
   "source": [
    "values[counts.argsort()]"
   ]
  },
  {
   "cell_type": "code",
   "execution_count": 72,
   "id": "ca59e904-033b-41fa-a388-cef5f675b70b",
   "metadata": {},
   "outputs": [
    {
     "name": "stdout",
     "output_type": "stream",
     "text": [
      "valeur 0 apparait 1\n",
      "valeur 2 apparait 1\n",
      "valeur 1 apparait 2\n",
      "valeur 4 apparait 2\n",
      "valeur 6 apparait 2\n",
      "valeur 3 apparait 3\n",
      "valeur 5 apparait 3\n",
      "valeur 9 apparait 3\n",
      "valeur 7 apparait 4\n",
      "valeur 8 apparait 4\n"
     ]
    }
   ],
   "source": [
    "for i, j in zip(values[counts.argsort()], counts[counts.argsort()]):\n",
    "    print(f'valeur {i} apparait {j}')"
   ]
  },
  {
   "cell_type": "markdown",
   "id": "98b1f521-f08d-4e83-bbfc-a0cec44ab634",
   "metadata": {},
   "source": [
    "# NAN Corrections"
   ]
  },
  {
   "cell_type": "code",
   "execution_count": 87,
   "id": "ecc1db10-8b17-4045-a96e-7cc469157c74",
   "metadata": {},
   "outputs": [
    {
     "data": {
      "text/plain": [
       "array([[-1.45436567,  0.04575852,         nan,  1.53277921,  1.46935877],\n",
       "       [ 0.15494743,  0.37816252, -0.88778575, -1.98079647, -0.34791215],\n",
       "       [ 0.15634897,  1.23029068,  1.20237985, -0.38732682, -0.30230275],\n",
       "       [-1.04855297, -1.42001794, -1.70627019,  1.9507754 , -0.50965218],\n",
       "       [-0.4380743 , -1.25279536,  0.77749036,         nan, -0.21274028]])"
      ]
     },
     "execution_count": 87,
     "metadata": {},
     "output_type": "execute_result"
    }
   ],
   "source": [
    "# Not a Number\n",
    "C = np.random.randn(5,5)\n",
    "C[0,2] = np.nan\n",
    "C[4,3] = np.nan\n",
    "C"
   ]
  },
  {
   "cell_type": "code",
   "execution_count": 81,
   "id": "0313fecc-34a2-43e1-bcd6-1311ee67a589",
   "metadata": {},
   "outputs": [
    {
     "data": {
      "text/plain": [
       "4.5"
      ]
     },
     "execution_count": 81,
     "metadata": {},
     "output_type": "execute_result"
    }
   ],
   "source": [
    "np.nanmean(C)"
   ]
  },
  {
   "cell_type": "code",
   "execution_count": 83,
   "id": "940ecdac-dbf4-42f9-a85e-6cece8e04091",
   "metadata": {},
   "outputs": [
    {
     "data": {
      "text/plain": [
       "2.9297326385411577"
      ]
     },
     "execution_count": 83,
     "metadata": {},
     "output_type": "execute_result"
    }
   ],
   "source": [
    "np.nanstd(C)"
   ]
  },
  {
   "cell_type": "code",
   "execution_count": 95,
   "id": "afb4c997-43a3-47a2-8269-424255745c24",
   "metadata": {},
   "outputs": [
    {
     "data": {
      "text/plain": [
       "0.08"
      ]
     },
     "execution_count": 95,
     "metadata": {},
     "output_type": "execute_result"
    }
   ],
   "source": [
    "np.isnan(C).sum()/C.size"
   ]
  },
  {
   "cell_type": "code",
   "execution_count": 103,
   "id": "e6f381db-2051-4ae7-9605-7c8c29307a63",
   "metadata": {},
   "outputs": [
    {
     "data": {
      "text/plain": [
       "array([[-1.45436567,  0.04575852,  0.        ,  1.53277921,  1.46935877],\n",
       "       [ 0.15494743,  0.37816252, -0.88778575, -1.98079647, -0.34791215],\n",
       "       [ 0.15634897,  1.23029068,  1.20237985, -0.38732682, -0.30230275],\n",
       "       [-1.04855297, -1.42001794, -1.70627019,  1.9507754 , -0.50965218],\n",
       "       [-0.4380743 , -1.25279536,  0.77749036,  0.        , -0.21274028]])"
      ]
     },
     "execution_count": 103,
     "metadata": {},
     "output_type": "execute_result"
    }
   ],
   "source": [
    "C[np.isnan(C)]  = 0\n",
    "C"
   ]
  },
  {
   "cell_type": "markdown",
   "id": "f7c6db6c-3e74-4bc6-849d-38c07fbcf4fa",
   "metadata": {},
   "source": [
    "# Algebre Linéaire"
   ]
  },
  {
   "cell_type": "code",
   "execution_count": 106,
   "id": "87edd0f9-2a2b-4b86-83a1-972bb9785822",
   "metadata": {},
   "outputs": [
    {
     "data": {
      "text/plain": [
       "array([[1., 1., 1.],\n",
       "       [1., 1., 1.]])"
      ]
     },
     "execution_count": 106,
     "metadata": {},
     "output_type": "execute_result"
    }
   ],
   "source": [
    "D = np.ones((2,3))\n",
    "E = np.ones((3,2))\n",
    "D"
   ]
  },
  {
   "cell_type": "code",
   "execution_count": 108,
   "id": "6cead9a2-9248-4b11-9c38-8129a124f684",
   "metadata": {},
   "outputs": [
    {
     "data": {
      "text/plain": [
       "array([[1., 1.],\n",
       "       [1., 1.],\n",
       "       [1., 1.]])"
      ]
     },
     "execution_count": 108,
     "metadata": {},
     "output_type": "execute_result"
    }
   ],
   "source": [
    "E"
   ]
  },
  {
   "cell_type": "code",
   "execution_count": 110,
   "id": "940a1c16-d415-49fa-a8a9-f0470f03e6e1",
   "metadata": {},
   "outputs": [
    {
     "data": {
      "text/plain": [
       "array([[1., 1.],\n",
       "       [1., 1.],\n",
       "       [1., 1.]])"
      ]
     },
     "execution_count": 110,
     "metadata": {},
     "output_type": "execute_result"
    }
   ],
   "source": [
    "# Transposer une matrice\n",
    "D.T"
   ]
  },
  {
   "cell_type": "code",
   "execution_count": 112,
   "id": "c2150d15-df6d-4be4-9a0e-00110eec4f51",
   "metadata": {},
   "outputs": [
    {
     "data": {
      "text/plain": [
       "array([[3., 3.],\n",
       "       [3., 3.]])"
      ]
     },
     "execution_count": 112,
     "metadata": {},
     "output_type": "execute_result"
    }
   ],
   "source": [
    "# Produit matricielle\n",
    "# (2,3)*(3,2)=(2,2)\n",
    "D.dot(E)"
   ]
  },
  {
   "cell_type": "code",
   "execution_count": 114,
   "id": "a77a66e4-3125-4223-8ef3-dac75979c8b1",
   "metadata": {},
   "outputs": [
    {
     "data": {
      "text/plain": [
       "array([[2., 2., 2.],\n",
       "       [2., 2., 2.],\n",
       "       [2., 2., 2.]])"
      ]
     },
     "execution_count": 114,
     "metadata": {},
     "output_type": "execute_result"
    }
   ],
   "source": [
    "# (3,2)*(2,3)=(3,3)\n",
    "E.dot(D)"
   ]
  },
  {
   "cell_type": "code",
   "execution_count": 116,
   "id": "4fd72f4f-5308-4173-89b0-3930ae5fdf33",
   "metadata": {},
   "outputs": [
    {
     "data": {
      "text/plain": [
       "array([[7, 5, 5],\n",
       "       [0, 1, 5],\n",
       "       [9, 3, 0]])"
      ]
     },
     "execution_count": 116,
     "metadata": {},
     "output_type": "execute_result"
    }
   ],
   "source": [
    "F = np.random.randint(0,10,[3,3])\n",
    "F"
   ]
  },
  {
   "cell_type": "code",
   "execution_count": 120,
   "id": "dfa1556c-fabd-422d-a2d6-f2103291373f",
   "metadata": {},
   "outputs": [
    {
     "data": {
      "text/plain": [
       "75.00000000000004"
      ]
     },
     "execution_count": 120,
     "metadata": {},
     "output_type": "execute_result"
    }
   ],
   "source": [
    "# Calculer le determinant \n",
    "np.linalg.det(F)"
   ]
  },
  {
   "cell_type": "code",
   "execution_count": 122,
   "id": "f4468632-cb5f-4378-9948-858e8582ab1f",
   "metadata": {},
   "outputs": [
    {
     "data": {
      "text/plain": [
       "array([[-0.2       ,  0.2       ,  0.26666667],\n",
       "       [ 0.6       , -0.6       , -0.46666667],\n",
       "       [-0.12      ,  0.32      ,  0.09333333]])"
      ]
     },
     "execution_count": 122,
     "metadata": {},
     "output_type": "execute_result"
    }
   ],
   "source": [
    "# Inverser la matrice \n",
    "np.linalg.inv(F)"
   ]
  },
  {
   "cell_type": "code",
   "execution_count": 124,
   "id": "b67bf2a0-3519-4618-9c77-a2ba61d5e583",
   "metadata": {},
   "outputs": [
    {
     "data": {
      "text/plain": [
       "array([[-0.2       ,  0.2       ,  0.26666667],\n",
       "       [ 0.6       , -0.6       , -0.46666667],\n",
       "       [-0.12      ,  0.32      ,  0.09333333]])"
      ]
     },
     "execution_count": 124,
     "metadata": {},
     "output_type": "execute_result"
    }
   ],
   "source": [
    "# pseudo inverse : si il y a une combinaison linéaire entre les lignes et les colonnes \n",
    "np.linalg.pinv(F)"
   ]
  },
  {
   "cell_type": "code",
   "execution_count": 134,
   "id": "37e7e7b1-b6a6-4a08-ac67-6e2f1cc55913",
   "metadata": {},
   "outputs": [
    {
     "data": {
      "text/plain": [
       "EigResult(eigenvalues=array([12.65598352+0.j        , -2.32799176+0.71169169j,\n",
       "       -2.32799176-0.71169169j]), eigenvectors=array([[-0.75766826+0.j        , -0.1407341 -0.0730122j ,\n",
       "        -0.1407341 +0.0730122j ],\n",
       "       [-0.25728647+0.j        ,  0.81622126+0.j        ,\n",
       "         0.81622126-0.j        ],\n",
       "       [-0.59978537+0.j        , -0.54327552+0.11617958j,\n",
       "        -0.54327552-0.11617958j]]))"
      ]
     },
     "execution_count": 134,
     "metadata": {},
     "output_type": "execute_result"
    }
   ],
   "source": [
    "# Valeur propre d'une matrice (eigen value)\n",
    "# Réduction de dimession (Principal component analysis)\n",
    "# Vecteur propre d'une matrice (eigen vectors)\n",
    "np.linalg.eig(F)"
   ]
  },
  {
   "cell_type": "markdown",
   "id": "b0d252af-f32b-451e-944a-53af110bbcdd",
   "metadata": {},
   "source": [
    "# Exercice\n",
    "Standardiser la matrice A sur chaque colonne \\\n",
    "Résultat: chaque colonne doit avoir moyenne = 0 et écart type = 1"
   ]
  },
  {
   "cell_type": "code",
   "execution_count": 162,
   "id": "044de14d-e298-4b25-b548-d102ba9202fa",
   "metadata": {},
   "outputs": [
    {
     "data": {
      "text/plain": [
       "array([[44, 47, 64, 67, 67],\n",
       "       [ 9, 83, 21, 36, 87],\n",
       "       [70, 88, 88, 12, 58],\n",
       "       [65, 39, 87, 46, 88],\n",
       "       [81, 37, 25, 77, 72],\n",
       "       [ 9, 20, 80, 69, 79],\n",
       "       [47, 64, 82, 99, 88],\n",
       "       [49, 29, 19, 19, 14],\n",
       "       [39, 32, 65,  9, 57],\n",
       "       [32, 31, 74, 23, 35]])"
      ]
     },
     "execution_count": 162,
     "metadata": {},
     "output_type": "execute_result"
    }
   ],
   "source": [
    "np.random.seed(0)\n",
    "G = np.random.randint(0,100,[10,5])\n",
    "G"
   ]
  },
  {
   "cell_type": "code",
   "execution_count": 164,
   "id": "05c0d3d6-240b-48af-9b2e-d5876dbbf46b",
   "metadata": {},
   "outputs": [],
   "source": [
    "# Standardiser : mettre sur une même échelle chaque ligne et colonne de notre dataset\n",
    "# Mise à l'echelle: (x-min(x))/(max(x)-min(x))\n",
    "# Normalisation avec la moyenne: (x-average(x))/(max(x)-min(x))\n",
    "# Z-score Normalization : (x-mean(x))/std(x)"
   ]
  },
  {
   "cell_type": "code",
   "execution_count": 166,
   "id": "b225f50d-22f6-469d-920f-bd9609ac8d7a",
   "metadata": {},
   "outputs": [
    {
     "data": {
      "text/plain": [
       "array([44.5, 47. , 60.5, 45.7, 64.5])"
      ]
     },
     "execution_count": 166,
     "metadata": {},
     "output_type": "execute_result"
    }
   ],
   "source": [
    "G.mean(axis=0)"
   ]
  },
  {
   "cell_type": "code",
   "execution_count": 168,
   "id": "a99adcc3-e7f4-4933-979c-c78780d2f578",
   "metadata": {},
   "outputs": [
    {
     "data": {
      "text/plain": [
       "array([22.66384786, 22.28003591, 26.5678377 , 29.36341261, 23.2432786 ])"
      ]
     },
     "execution_count": 168,
     "metadata": {},
     "output_type": "execute_result"
    }
   ],
   "source": [
    "G.std(axis=0)"
   ]
  },
  {
   "cell_type": "code",
   "execution_count": 170,
   "id": "6960888c-2614-4c22-82b7-e18fd0828b48",
   "metadata": {},
   "outputs": [
    {
     "data": {
      "text/plain": [
       "array([[-0.02206157,  0.        ,  0.13173823,  0.72539252,  0.10755798],\n",
       "       [-1.56637126,  1.61579632, -1.48676006, -0.33034307,  0.96802178],\n",
       "       [ 1.12513992,  1.84021247,  1.03508612, -1.14768676, -0.27965074],\n",
       "       [ 0.90452425, -0.35906585,  0.99744662,  0.0102168 ,  1.01104497],\n",
       "       [ 1.6104944 , -0.44883231, -1.33620208,  1.0659524 ,  0.32267393],\n",
       "       [-1.56637126, -1.21184724,  0.73397016,  0.7935045 ,  0.62383626],\n",
       "       [ 0.11030784,  0.76301493,  0.80924915,  1.81518411,  1.01104497],\n",
       "       [ 0.1985541 , -0.80789816, -1.56203905, -0.90929485, -2.17267111],\n",
       "       [-0.24267724, -0.67324847,  0.16937773, -1.24985473, -0.32267393],\n",
       "       [-0.55153918, -0.7181317 ,  0.50813319, -0.77307091, -1.26918412]])"
      ]
     },
     "execution_count": 170,
     "metadata": {},
     "output_type": "execute_result"
    }
   ],
   "source": [
    "G = (G-G.mean(axis=0))/G.std(axis=0)\n",
    "G"
   ]
  },
  {
   "cell_type": "code",
   "execution_count": 172,
   "id": "df5c2fdc-7f56-4a68-a05c-d1eda7e5820c",
   "metadata": {},
   "outputs": [
    {
     "data": {
      "text/plain": [
       "array([-2.22044605e-17, -4.44089210e-17,  0.00000000e+00, -1.22124533e-16,\n",
       "       -4.44089210e-17])"
      ]
     },
     "execution_count": 172,
     "metadata": {},
     "output_type": "execute_result"
    }
   ],
   "source": [
    "G.mean(axis=0)"
   ]
  },
  {
   "cell_type": "code",
   "execution_count": 176,
   "id": "c02e3775-32ae-4e3b-96f1-566fbeb4c9bc",
   "metadata": {},
   "outputs": [
    {
     "data": {
      "text/plain": [
       "array([1., 1., 1., 1., 1.])"
      ]
     },
     "execution_count": 176,
     "metadata": {},
     "output_type": "execute_result"
    }
   ],
   "source": [
    "G.std(axis=0)"
   ]
  },
  {
   "cell_type": "code",
   "execution_count": 178,
   "id": "55a0d952-4141-4415-a2c8-0b6c41b4aa46",
   "metadata": {},
   "outputs": [
    {
     "data": {
      "text/plain": [
       "(10, 5)"
      ]
     },
     "execution_count": 178,
     "metadata": {},
     "output_type": "execute_result"
    }
   ],
   "source": [
    "G.shape"
   ]
  },
  {
   "cell_type": "code",
   "execution_count": 180,
   "id": "1cda07d8-dc30-4d7d-ba3c-22e7ece25324",
   "metadata": {},
   "outputs": [
    {
     "data": {
      "text/plain": [
       "50"
      ]
     },
     "execution_count": 180,
     "metadata": {},
     "output_type": "execute_result"
    }
   ],
   "source": [
    "G.size"
   ]
  },
  {
   "cell_type": "code",
   "execution_count": null,
   "id": "d409b27d-6f3a-43f0-96b7-968ca554ef9b",
   "metadata": {},
   "outputs": [],
   "source": []
  }
 ],
 "metadata": {
  "kernelspec": {
   "display_name": "Python [conda env:base] *",
   "language": "python",
   "name": "conda-base-py"
  },
  "language_info": {
   "codemirror_mode": {
    "name": "ipython",
    "version": 3
   },
   "file_extension": ".py",
   "mimetype": "text/x-python",
   "name": "python",
   "nbconvert_exporter": "python",
   "pygments_lexer": "ipython3",
   "version": "3.12.7"
  }
 },
 "nbformat": 4,
 "nbformat_minor": 5
}
