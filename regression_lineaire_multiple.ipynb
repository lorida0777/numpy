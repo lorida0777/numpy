{
 "cells": [
  {
   "cell_type": "code",
   "execution_count": 3,
   "id": "7aa6f2c3-ff6b-4910-89ae-af631e54a686",
   "metadata": {},
   "outputs": [],
   "source": [
    "import numpy as np\n",
    "from sklearn.datasets import make_regression\n",
    "import matplotlib.pyplot as plt"
   ]
  },
  {
   "cell_type": "markdown",
   "id": "582931c0-75e0-4828-9490-38914c812042",
   "metadata": {},
   "source": [
    "### 1. Dataset "
   ]
  },
  {
   "cell_type": "code",
   "execution_count": 5,
   "id": "db05cb84-5055-4aeb-a6a1-62b29eaa39ab",
   "metadata": {},
   "outputs": [
    {
     "data": {
      "text/plain": [
       "<matplotlib.collections.PathCollection at 0x2016bd4de20>"
      ]
     },
     "execution_count": 5,
     "metadata": {},
     "output_type": "execute_result"
    },
    {
     "data": {
      "image/png": "[encoded data removed]",
      "text/plain": [
       "<Figure size 640x480 with 1 Axes>"
      ]
     },
     "metadata": {},
     "output_type": "display_data"
    }
   ],
   "source": [
    "x, y = make_regression(n_samples=100, n_features=1, noise=10)\n",
    "plt.scatter(x, y)"
   ]
  },
  {
   "cell_type": "code",
   "execution_count": 6,
   "id": "1328ebc3-e798-43ad-a62f-6a6acf1d5b08",
   "metadata": {},
   "outputs": [
    {
     "name": "stdout",
     "output_type": "stream",
     "text": [
      "(100, 1)\n",
      "(100,)\n",
      "(100, 1)\n"
     ]
    }
   ],
   "source": [
    "# Verification des domensions\n",
    "print(x.shape)\n",
    "print(y.shape)\n",
    "\n",
    "# redimensionner y \n",
    "y = y.reshape(y.shape[0], 1)\n",
    "print(y.shape)"
   ]
  },
  {
   "cell_type": "code",
   "execution_count": 9,
   "id": "dfdb94a0-509b-459b-83b9-52204a13b2c7",
   "metadata": {},
   "outputs": [
    {
     "name": "stdout",
     "output_type": "stream",
     "text": [
      "(100, 2)\n",
      "[[-1.03946024  1.        ]\n",
      " [ 2.00345632  1.        ]\n",
      " [-0.07662322  1.        ]\n",
      " [ 0.61423391  1.        ]\n",
      " [-1.0021276   1.        ]\n",
      " [-0.26085418  1.        ]\n",
      " [-1.18271793  1.        ]\n",
      " [ 1.29124402  1.        ]\n",
      " [-0.11679555  1.        ]\n",
      " [ 0.3314266   1.        ]]\n"
     ]
    }
   ],
   "source": [
    "# Création de la matrice X, inclust le Biais\n",
    "X = np.hstack((x, np.ones(x.shape)))\n",
    "print(X.shape)\n",
    "print(X[:10])"
   ]
  },
  {
   "cell_type": "code",
   "execution_count": 10,
   "id": "c0f9d0fd-8435-458f-8e70-9330968ac048",
   "metadata": {},
   "outputs": [
    {
     "data": {
      "text/plain": [
       "array([[-0.27198748],\n",
       "       [-1.07990551]])"
      ]
     },
     "execution_count": 10,
     "metadata": {},
     "output_type": "execute_result"
    }
   ],
   "source": [
    "# Initialisation du vecteur theta aléatoire\n",
    "theta = np.random.randn(2,1)\n",
    "theta"
   ]
  },
  {
   "cell_type": "code",
   "execution_count": 11,
   "id": "466fdf87-5104-4ea6-8ace-a83b0d8c480a",
   "metadata": {},
   "outputs": [],
   "source": [
    "# Modele linéaire \n",
    "def model(X, theta):\n",
    "    return X.dot(theta)"
   ]
  },
  {
   "cell_type": "code",
   "execution_count": null,
   "id": "a06586bc-1bdf-4d60-9ba5-aa68cfeb25fc",
   "metadata": {},
   "outputs": [],
   "source": [
    "plt.scatter(x[:,0], y)\n",
    "plt.scatter(x[:,0], model(X, theta), c='r')"
   ]
  }
 ],
 "metadata": {
  "kernelspec": {
   "display_name": "Python [conda env:base] *",
   "language": "python",
   "name": "conda-base-py"
  },
  "language_info": {
   "codemirror_mode": {
    "name": "ipython",
    "version": 3
   },
   "file_extension": ".py",
   "mimetype": "text/x-python",
   "name": "python",
   "nbconvert_exporter": "python",
   "pygments_lexer": "ipython3",
   "version": "3.12.7"
  }
 },
 "nbformat": 4,
 "nbformat_minor": 5
}
