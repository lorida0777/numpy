{
 "cells": [
  {
   "cell_type": "code",
   "execution_count": 1,
   "id": "0a1d515e-240a-4198-9b0d-83ff17be71b6",
   "metadata": {},
   "outputs": [],
   "source": [
    "import numpy as np\n",
    "from sklearn.datasets import make_regression \n",
    "import matplotlib.pyplot as plt "
   ]
  },
  {
   "cell_type": "markdown",
   "id": "fe7ce806-94b0-428c-88ee-6a4f8f91d47d",
   "metadata": {},
   "source": [
    "### 1. Dataset "
   ]
  },
  {
   "cell_type": "code",
   "execution_count": 2,
   "id": "dadaaa1f-9ef8-46be-846a-a0af55f2aae9",
   "metadata": {},
   "outputs": [
    {
     "data": {
      "text/plain": [
       "<matplotlib.collections.PathCollection at 0x1a684c76de0>"
      ]
     },
     "execution_count": 2,
     "metadata": {},
     "output_type": "execute_result"
    },
    {
     "data": {
      "image/png": "[encoded data removed]",
      "text/plain": [
       "<Figure size 640x480 with 1 Axes>"
      ]
     },
     "metadata": {},
     "output_type": "display_data"
    }
   ],
   "source": [
    "x, y = make_regression(n_samples=100, n_features=1, noise=10)\n",
    "plt.scatter(x, y)"
   ]
  },
  {
   "cell_type": "code",
   "execution_count": 3,
   "id": "51b69b8a-c593-4faf-82f5-56e42982b7c2",
   "metadata": {},
   "outputs": [
    {
     "name": "stdout",
     "output_type": "stream",
     "text": [
      "(100, 1)\n",
      "(100, 1)\n"
     ]
    }
   ],
   "source": [
    "print(x.shape)\n",
    "y=y.reshape(y.shape[0],1)\n",
    "print(y.shape)"
   ]
  },
  {
   "cell_type": "code",
   "execution_count": 4,
   "id": "7f1fe05a-f83c-443b-86a0-8605d135963b",
   "metadata": {},
   "outputs": [
    {
     "data": {
      "text/plain": [
       "array([[-1.04450525,  1.        ],\n",
       "       [-0.04248765,  1.        ],\n",
       "       [-0.26966837,  1.        ],\n",
       "       [ 2.43739139,  1.        ],\n",
       "       [ 0.03517547,  1.        ],\n",
       "       [-0.16428568,  1.        ],\n",
       "       [-0.70320784,  1.        ],\n",
       "       [ 0.42373413,  1.        ],\n",
       "       [ 0.49619666,  1.        ],\n",
       "       [-0.89717932,  1.        ],\n",
       "       [-0.58396043,  1.        ],\n",
       "       [ 0.35722369,  1.        ],\n",
       "       [ 0.48524984,  1.        ],\n",
       "       [ 1.0295594 ,  1.        ],\n",
       "       [-0.61161465,  1.        ],\n",
       "       [ 0.04285802,  1.        ],\n",
       "       [ 0.6811203 ,  1.        ],\n",
       "       [-1.05766389,  1.        ],\n",
       "       [ 0.3513254 ,  1.        ],\n",
       "       [ 1.45116395,  1.        ],\n",
       "       [-0.53918664,  1.        ],\n",
       "       [ 0.31623402,  1.        ],\n",
       "       [ 0.17379857,  1.        ],\n",
       "       [-0.38286195,  1.        ],\n",
       "       [-0.49108796,  1.        ],\n",
       "       [ 2.06029977,  1.        ],\n",
       "       [-0.27995773,  1.        ],\n",
       "       [ 0.09152682,  1.        ],\n",
       "       [ 0.43494403,  1.        ],\n",
       "       [ 0.94034148,  1.        ],\n",
       "       [ 1.10809076,  1.        ],\n",
       "       [-0.92377462,  1.        ],\n",
       "       [-0.99272417,  1.        ],\n",
       "       [ 0.06923493,  1.        ],\n",
       "       [-1.11820493,  1.        ],\n",
       "       [ 0.47790131,  1.        ],\n",
       "       [ 0.22893803,  1.        ],\n",
       "       [ 1.85736607,  1.        ],\n",
       "       [ 1.11393586,  1.        ],\n",
       "       [-1.30102093,  1.        ],\n",
       "       [ 0.63764243,  1.        ],\n",
       "       [ 1.08453863,  1.        ],\n",
       "       [-1.95360563,  1.        ],\n",
       "       [ 0.43371313,  1.        ],\n",
       "       [-0.63221989,  1.        ],\n",
       "       [ 0.86491694,  1.        ],\n",
       "       [-0.11134978,  1.        ],\n",
       "       [-0.94399799,  1.        ],\n",
       "       [ 2.33313571,  1.        ],\n",
       "       [ 1.81819677,  1.        ],\n",
       "       [-0.03315451,  1.        ],\n",
       "       [ 1.24387728,  1.        ],\n",
       "       [ 1.36651488,  1.        ],\n",
       "       [ 2.30185254,  1.        ],\n",
       "       [ 0.68756566,  1.        ],\n",
       "       [-1.4919451 ,  1.        ],\n",
       "       [-0.77573027,  1.        ],\n",
       "       [ 1.12217087,  1.        ],\n",
       "       [-0.90888481,  1.        ],\n",
       "       [ 0.46915673,  1.        ],\n",
       "       [-0.2584792 ,  1.        ],\n",
       "       [ 0.54480342,  1.        ],\n",
       "       [ 0.24683154,  1.        ],\n",
       "       [ 2.57236594,  1.        ],\n",
       "       [-0.96528484,  1.        ],\n",
       "       [-2.56232688,  1.        ],\n",
       "       [ 0.68413631,  1.        ],\n",
       "       [-0.43521014,  1.        ],\n",
       "       [ 0.17347746,  1.        ],\n",
       "       [-0.21373398,  1.        ],\n",
       "       [-0.35499558,  1.        ],\n",
       "       [ 0.17230031,  1.        ],\n",
       "       [-0.96495194,  1.        ],\n",
       "       [-0.01296673,  1.        ],\n",
       "       [-1.15565113,  1.        ],\n",
       "       [ 2.08946197,  1.        ],\n",
       "       [ 0.20604155,  1.        ],\n",
       "       [ 0.54505789,  1.        ],\n",
       "       [ 0.96795029,  1.        ],\n",
       "       [ 0.17879161,  1.        ],\n",
       "       [ 0.33243744,  1.        ],\n",
       "       [-0.09629281,  1.        ],\n",
       "       [-1.0480569 ,  1.        ],\n",
       "       [-0.41073222,  1.        ],\n",
       "       [-1.26322628,  1.        ],\n",
       "       [-1.5033126 ,  1.        ],\n",
       "       [ 1.93140618,  1.        ],\n",
       "       [ 2.47206944,  1.        ],\n",
       "       [-0.17860259,  1.        ],\n",
       "       [ 0.78528633,  1.        ],\n",
       "       [ 1.43151229,  1.        ],\n",
       "       [-0.18423805,  1.        ],\n",
       "       [ 2.06175285,  1.        ],\n",
       "       [-1.06689941,  1.        ],\n",
       "       [ 0.38932913,  1.        ],\n",
       "       [-0.49266504,  1.        ],\n",
       "       [-2.3533222 ,  1.        ],\n",
       "       [ 1.10475502,  1.        ],\n",
       "       [-0.51326118,  1.        ],\n",
       "       [-0.09896   ,  1.        ]])"
      ]
     },
     "execution_count": 4,
     "metadata": {},
     "output_type": "execute_result"
    }
   ],
   "source": [
    "# Matrice X\n",
    "X = np.hstack((x, np.ones(x.shape)))\n",
    "X"
   ]
  },
  {
   "cell_type": "code",
   "execution_count": 5,
   "id": "11032903-39d2-4efc-8c9b-dd125eddb432",
   "metadata": {},
   "outputs": [
    {
     "data": {
      "text/plain": [
       "array([[0.29659875],\n",
       "       [0.65744514]])"
      ]
     },
     "execution_count": 5,
     "metadata": {},
     "output_type": "execute_result"
    }
   ],
   "source": [
    "theta = np.random.randn(2,1)\n",
    "theta"
   ]
  },
  {
   "cell_type": "markdown",
   "id": "721df0ca-6cfb-4512-9ebe-191fa01ced50",
   "metadata": {},
   "source": [
    "### 2. Modèle "
   ]
  },
  {
   "cell_type": "code",
   "execution_count": 6,
   "id": "8353ca0c-92dc-4639-b30e-acdb28313705",
   "metadata": {},
   "outputs": [],
   "source": [
    "def model(X, theta):\n",
    "    return X.dot(theta)"
   ]
  },
  {
   "cell_type": "code",
   "execution_count": 7,
   "id": "df295634-3347-435b-b516-f83a6b65a413",
   "metadata": {},
   "outputs": [
    {
     "data": {
      "text/plain": [
       "[<matplotlib.lines.Line2D at 0x1a68a021190>]"
      ]
     },
     "execution_count": 7,
     "metadata": {},
     "output_type": "execute_result"
    },
    {
     "data": {
      "image/png": "[encoded data removed]",
      "text/plain": [
       "<Figure size 640x480 with 1 Axes>"
      ]
     },
     "metadata": {},
     "output_type": "display_data"
    }
   ],
   "source": [
    "plt.scatter(x,y)\n",
    "plt.plot(x, model(X, theta), c='r')"
   ]
  },
  {
   "cell_type": "markdown",
   "id": "bf7d328b-110c-48f6-be3b-7ce50d9e4ae1",
   "metadata": {},
   "source": [
    "### Fonction cout"
   ]
  },
  {
   "cell_type": "code",
   "execution_count": 8,
   "id": "8ed6f5f2-f26f-46c4-b59b-250d9b5a7e03",
   "metadata": {},
   "outputs": [],
   "source": [
    "def cost_function(X, y , theta):\n",
    "    m=len(y)\n",
    "    return 1/(2*m)*np.sum((model(X, theta)-y)**2)"
   ]
  },
  {
   "cell_type": "code",
   "execution_count": 9,
   "id": "6d181e30-53a0-4d41-af53-f9482a2bc4bf",
   "metadata": {},
   "outputs": [
    {
     "data": {
      "text/plain": [
       "4345.205538093225"
      ]
     },
     "execution_count": 9,
     "metadata": {},
     "output_type": "execute_result"
    }
   ],
   "source": [
    "cost_function(X, y , theta)"
   ]
  },
  {
   "cell_type": "markdown",
   "id": "e6a4ea94-7943-4585-8aca-06e2cc2d5122",
   "metadata": {},
   "source": [
    "### Descente de Gradient"
   ]
  },
  {
   "cell_type": "code",
   "execution_count": 10,
   "id": "8361adf6-c64f-4088-8672-5b4eb9733f4e",
   "metadata": {},
   "outputs": [],
   "source": [
    "def grad(X, y , theta):\n",
    "    m = len(y)\n",
    "    return 1/m*X.T.dot(model(X, theta)-y)"
   ]
  },
  {
   "cell_type": "code",
   "execution_count": 11,
   "id": "e422537e-06c8-4c03-b6de-047f81ec599f",
   "metadata": {},
   "outputs": [],
   "source": [
    "def gradient_descent(X, y, theta, learning_rate, n_iteration):\n",
    "    cost_history = np.zeros(n_iteration)\n",
    "    for i in range(0, n_iteration):\n",
    "        theta = theta-learning_rate*grad(X,y,theta)\n",
    "        cost_history[i] = cost_function(X, y, theta)\n",
    "    return theta, cost_history"
   ]
  },
  {
   "cell_type": "markdown",
   "id": "bb471f29-7e11-4b25-9976-084f82e41883",
   "metadata": {},
   "source": [
    "### Entraînement du modèle "
   ]
  },
  {
   "cell_type": "code",
   "execution_count": 12,
   "id": "92926731-ebf2-46c1-96e7-1455ffc13518",
   "metadata": {},
   "outputs": [],
   "source": [
    "theta_final, cost_history = gradient_descent(X, y, theta, learning_rate=0.01, n_iteration=1000)"
   ]
  },
  {
   "cell_type": "code",
   "execution_count": 13,
   "id": "8d9917bd-cb0a-4c52-bd80-3ed5535847f6",
   "metadata": {},
   "outputs": [
    {
     "data": {
      "text/plain": [
       "array([[85.88314216],\n",
       "       [ 1.07230708]])"
      ]
     },
     "execution_count": 13,
     "metadata": {},
     "output_type": "execute_result"
    }
   ],
   "source": [
    "theta_final"
   ]
  },
  {
   "cell_type": "code",
   "execution_count": 14,
   "id": "87f4ed21-79b6-4aef-89c5-bdfca71c0799",
   "metadata": {},
   "outputs": [
    {
     "data": {
      "text/plain": [
       "[<matplotlib.lines.Line2D at 0x1a68a065e20>]"
      ]
     },
     "execution_count": 14,
     "metadata": {},
     "output_type": "execute_result"
    },
    {
     "data": {
      "image/png": "[encoded data removed]",
      "text/plain": [
       "<Figure size 640x480 with 1 Axes>"
      ]
     },
     "metadata": {},
     "output_type": "display_data"
    }
   ],
   "source": [
    "predictions = model(X, theta_final)\n",
    "plt.scatter(x, y)\n",
    "plt.plot(x, predictions,c='r')"
   ]
  },
  {
   "cell_type": "code",
   "execution_count": 15,
   "id": "b1d33aff-caca-4235-a13a-96974299501e",
   "metadata": {},
   "outputs": [
    {
     "data": {
      "text/plain": [
       "[<matplotlib.lines.Line2D at 0x1a68a05fda0>]"
      ]
     },
     "execution_count": 15,
     "metadata": {},
     "output_type": "execute_result"
    },
    {
     "data": {
      "image/png": "[encoded data removed]",
      "text/plain": [
       "<Figure size 640x480 with 1 Axes>"
      ]
     },
     "metadata": {},
     "output_type": "display_data"
    }
   ],
   "source": [
    "plt.plot(range(1000), cost_history)"
   ]
  },
  {
   "cell_type": "markdown",
   "id": "ec7da4f9-a4a0-4a69-a736-fc840b0d3ce1",
   "metadata": {},
   "source": [
    "### Coefficient de détermination "
   ]
  },
  {
   "cell_type": "code",
   "execution_count": 16,
   "id": "b1118aa0-a448-4b97-8bf5-801704775d1a",
   "metadata": {},
   "outputs": [],
   "source": [
    "def coef_determination(y, pred):\n",
    "    u = ((y-pred)**2).sum()\n",
    "    v = ((y-y.mean())**2).sum()\n",
    "    return 1 -u/v\n",
    "    "
   ]
  },
  {
   "cell_type": "code",
   "execution_count": 17,
   "id": "3b4260ee-f0a4-4df0-a4b2-d4c8c0421391",
   "metadata": {},
   "outputs": [
    {
     "data": {
      "text/plain": [
       "0.9849300688366601"
      ]
     },
     "execution_count": 17,
     "metadata": {},
     "output_type": "execute_result"
    }
   ],
   "source": [
    "coef_determination(y, predictions)"
   ]
  },
  {
   "cell_type": "code",
   "execution_count": null,
   "id": "a2a929a7-c938-417f-bf79-5c6d051efed8",
   "metadata": {},
   "outputs": [],
   "source": []
  },
  {
   "cell_type": "code",
   "execution_count": null,
   "id": "95b94d4b-c226-470a-a990-b6bb547abc60",
   "metadata": {},
   "outputs": [],
   "source": []
  }
 ],
 "metadata": {
  "kernelspec": {
   "display_name": "Python [conda env:base] *",
   "language": "python",
   "name": "conda-base-py"
  },
  "language_info": {
   "codemirror_mode": {
    "name": "ipython",
    "version": 3
   },
   "file_extension": ".py",
   "mimetype": "text/x-python",
   "name": "python",
   "nbconvert_exporter": "python",
   "pygments_lexer": "ipython3",
   "version": "3.12.7"
  }
 },
 "nbformat": 4,
 "nbformat_minor": 5
}
