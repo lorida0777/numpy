{
 "cells": [
  {
   "cell_type": "markdown",
   "id": "0c562617-8cbb-4dc8-9f89-99be04cf9990",
   "metadata": {},
   "source": [
    "ND Array \\\n",
    "ndarray plus rapide, meilleur aux calculs scientifiques"
   ]
  },
  {
   "cell_type": "markdown",
   "id": "88198e52-da22-49f5-a1aa-a7b53f08e0ae",
   "metadata": {},
   "source": [
    "ndarray.shape \\\n",
    "quels est la lignes , la forme, combient colonne, profondeur \\\n",
    "shape est un tuple \\\n",
    "shape = (2,3) \\\n",
    "shape[0] = 2 -> nb de ligne \\\n",
    "shape[1] = 3 -> nb de colonne \\\n",
    "shape -> immutable "
   ]
  },
  {
   "cell_type": "code",
   "execution_count": 9,
   "id": "59e57d0b-4805-4c92-bc9a-fc7d91de3768",
   "metadata": {},
   "outputs": [],
   "source": [
    "import numpy as np"
   ]
  },
  {
   "cell_type": "code",
   "execution_count": 3,
   "id": "fc10e57f-985c-4acf-a680-beccbbb61b5b",
   "metadata": {},
   "outputs": [
    {
     "data": {
      "text/plain": [
       "array([1, 2, 3])"
      ]
     },
     "execution_count": 3,
     "metadata": {},
     "output_type": "execute_result"
    }
   ],
   "source": [
    " A = np.array([1, 2, 3])\n",
    "A"
   ]
  },
  {
   "cell_type": "code",
   "execution_count": 4,
   "id": "f46644f1-7581-4c6b-a10a-a8c945387d78",
   "metadata": {},
   "outputs": [
    {
     "data": {
      "text/plain": [
       "(3,)"
      ]
     },
     "execution_count": 4,
     "metadata": {},
     "output_type": "execute_result"
    }
   ],
   "source": [
    "A.shape"
   ]
  },
  {
   "cell_type": "code",
   "execution_count": 5,
   "id": "8c3894b4-164a-4372-8670-56a084f73ba6",
   "metadata": {},
   "outputs": [
    {
     "data": {
      "text/plain": [
       "1"
      ]
     },
     "execution_count": 5,
     "metadata": {},
     "output_type": "execute_result"
    }
   ],
   "source": [
    "A.ndim"
   ]
  },
  {
   "cell_type": "code",
   "execution_count": 6,
   "id": "e2be9a92-6405-46bf-9709-31f3e95c5897",
   "metadata": {},
   "outputs": [
    {
     "data": {
      "text/plain": [
       "3"
      ]
     },
     "execution_count": 6,
     "metadata": {},
     "output_type": "execute_result"
    }
   ],
   "source": [
    "A.size"
   ]
  },
  {
   "cell_type": "markdown",
   "id": "8d454d1e-fb9f-4ce8-b3cb-448092c07d35",
   "metadata": {},
   "source": [
    "Initialiser avec des 0"
   ]
  },
  {
   "cell_type": "code",
   "execution_count": 8,
   "id": "babf6584-de21-4ed6-99b2-ebb8a875c1f4",
   "metadata": {},
   "outputs": [
    {
     "data": {
      "text/plain": [
       "array([[0., 0.],\n",
       "       [0., 0.],\n",
       "       [0., 0.]])"
      ]
     },
     "execution_count": 8,
     "metadata": {},
     "output_type": "execute_result"
    }
   ],
   "source": [
    "B = np.zeros((3,2))\n",
    "B"
   ]
  },
  {
   "cell_type": "code",
   "execution_count": 9,
   "id": "b9c593ae-a219-40a2-b073-3c28de5fa213",
   "metadata": {},
   "outputs": [
    {
     "data": {
      "text/plain": [
       "(3, 2)"
      ]
     },
     "execution_count": 9,
     "metadata": {},
     "output_type": "execute_result"
    }
   ],
   "source": [
    "B.shape"
   ]
  },
  {
   "cell_type": "code",
   "execution_count": 10,
   "id": "67a5e288-567a-418a-ae24-42f72ea114b5",
   "metadata": {},
   "outputs": [
    {
     "data": {
      "text/plain": [
       "6"
      ]
     },
     "execution_count": 10,
     "metadata": {},
     "output_type": "execute_result"
    }
   ],
   "source": [
    "B.size"
   ]
  },
  {
   "cell_type": "markdown",
   "id": "221c8cfd-9f75-4e9c-a6b1-de0e64e162f4",
   "metadata": {},
   "source": [
    "Initialiser avec des 1"
   ]
  },
  {
   "cell_type": "code",
   "execution_count": 20,
   "id": "85cf5a98-fb90-4193-9266-6ed77f0c323e",
   "metadata": {},
   "outputs": [
    {
     "data": {
      "text/plain": [
       "array([[1., 1., 1., 1., 1., 1., 1.],\n",
       "       [1., 1., 1., 1., 1., 1., 1.],\n",
       "       [1., 1., 1., 1., 1., 1., 1.],\n",
       "       [1., 1., 1., 1., 1., 1., 1.]])"
      ]
     },
     "execution_count": 20,
     "metadata": {},
     "output_type": "execute_result"
    }
   ],
   "source": [
    "C = np.ones((4,7))\n",
    "C"
   ]
  },
  {
   "cell_type": "code",
   "execution_count": 22,
   "id": "ddcc59c5-7872-48cc-91ee-8e4d55301aeb",
   "metadata": {},
   "outputs": [
    {
     "data": {
      "text/plain": [
       "28"
      ]
     },
     "execution_count": 22,
     "metadata": {},
     "output_type": "execute_result"
    }
   ],
   "source": [
    "C.size"
   ]
  },
  {
   "cell_type": "code",
   "execution_count": 24,
   "id": "85e67022-fdd1-48a7-8656-d11d00a4bff0",
   "metadata": {},
   "outputs": [
    {
     "data": {
      "text/plain": [
       "array([[7, 7, 7],\n",
       "       [7, 7, 7]])"
      ]
     },
     "execution_count": 24,
     "metadata": {},
     "output_type": "execute_result"
    }
   ],
   "source": [
    "D = np.full((2,3),7)\n",
    "D"
   ]
  },
  {
   "cell_type": "code",
   "execution_count": 26,
   "id": "1bd9fd3d-7f5c-421e-8d7b-910d44f7ed0d",
   "metadata": {},
   "outputs": [
    {
     "data": {
      "text/plain": [
       "array([[ 1.2824656 ,  0.70519288, -1.71966591, -0.96709965],\n",
       "       [-0.03140678, -0.59476713,  0.59382329,  1.44692847],\n",
       "       [ 0.00404294, -0.05312601, -0.96163844,  0.00219315]])"
      ]
     },
     "execution_count": 26,
     "metadata": {},
     "output_type": "execute_result"
    }
   ],
   "source": [
    "np.random.seed(312098)\n",
    "np.random.randn(3,4)"
   ]
  },
  {
   "cell_type": "markdown",
   "id": "f11def29-ed68-4736-a425-12b5c9cda93f",
   "metadata": {},
   "source": [
    "## Matrice identiter\n",
    "np.eye(4)"
   ]
  },
  {
   "cell_type": "code",
   "execution_count": 29,
   "id": "bb8d5d11-07c9-44f1-a283-901637548217",
   "metadata": {},
   "outputs": [
    {
     "data": {
      "text/plain": [
       "array([ 0.    ,  0.5264,  1.053 ,  1.579 ,  2.105 ,  2.63  ,  3.158 ,\n",
       "        3.684 ,  4.21  ,  4.74  ,  5.26  ,  5.79  ,  6.316 ,  6.844 ,\n",
       "        7.367 ,  7.895 ,  8.42  ,  8.945 ,  9.48  , 10.    ],\n",
       "      dtype=float16)"
      ]
     },
     "execution_count": 29,
     "metadata": {},
     "output_type": "execute_result"
    }
   ],
   "source": [
    "# début, fin , quantité d'élement qu'on va avoir dans notre tableau \n",
    "# répatie de façon égale entre notre point de début et notre point de fin \n",
    "np.linspace(0, 10, 20, dtype=np.float16)"
   ]
  },
  {
   "cell_type": "code",
   "execution_count": 31,
   "id": "26d05bdf-885d-4856-976b-16b7a0f03fc0",
   "metadata": {},
   "outputs": [
    {
     "data": {
      "text/plain": [
       "array([0. , 0.5, 1. , 1.5, 2. , 2.5, 3. , 3.5, 4. , 4.5, 5. , 5.5, 6. ,\n",
       "       6.5, 7. , 7.5, 8. , 8.5, 9. , 9.5])"
      ]
     },
     "execution_count": 31,
     "metadata": {},
     "output_type": "execute_result"
    }
   ],
   "source": [
    "# début, fin, pas \n",
    "np.arange(0,10,0.5)"
   ]
  },
  {
   "cell_type": "code",
   "execution_count": 47,
   "id": "6118dac5-d3cf-4d36-b51a-9fad9b916010",
   "metadata": {},
   "outputs": [],
   "source": [
    "# dtype = data type  \n"
   ]
  },
  {
   "cell_type": "markdown",
   "id": "2d60728a-262e-4a3d-934f-fc6bee55f618",
   "metadata": {},
   "source": [
    "# Manipulation "
   ]
  },
  {
   "cell_type": "code",
   "execution_count": 33,
   "id": "51867c4e-3a16-424e-bb5d-959315339cd3",
   "metadata": {},
   "outputs": [],
   "source": [
    "K = np.zeros((3,2))\n",
    "L = np.ones((3,2))"
   ]
  },
  {
   "cell_type": "code",
   "execution_count": 37,
   "id": "eada3ef1-18f6-4be3-9bba-d67e43d3d22d",
   "metadata": {},
   "outputs": [
    {
     "data": {
      "text/plain": [
       "array([[0., 0.],\n",
       "       [0., 0.],\n",
       "       [0., 0.]])"
      ]
     },
     "execution_count": 37,
     "metadata": {},
     "output_type": "execute_result"
    }
   ],
   "source": [
    "K"
   ]
  },
  {
   "cell_type": "code",
   "execution_count": 39,
   "id": "93d403f5-da4a-497b-a43d-571d8c3de603",
   "metadata": {},
   "outputs": [
    {
     "data": {
      "text/plain": [
       "array([[1., 1.],\n",
       "       [1., 1.],\n",
       "       [1., 1.]])"
      ]
     },
     "execution_count": 39,
     "metadata": {},
     "output_type": "execute_result"
    }
   ],
   "source": [
    "L"
   ]
  },
  {
   "cell_type": "code",
   "execution_count": 35,
   "id": "ebeaa87f-e794-4321-ae2c-ef4eb926e19f",
   "metadata": {},
   "outputs": [
    {
     "data": {
      "text/plain": [
       "array([[0., 0., 1., 1.],\n",
       "       [0., 0., 1., 1.],\n",
       "       [0., 0., 1., 1.]])"
      ]
     },
     "execution_count": 35,
     "metadata": {},
     "output_type": "execute_result"
    }
   ],
   "source": [
    "# Colonne coller au une au autre \n",
    "M = np.hstack((K,L))\n",
    "M"
   ]
  },
  {
   "cell_type": "code",
   "execution_count": 62,
   "id": "791dc432-5709-4755-a3b4-b5dcd3ba26d6",
   "metadata": {},
   "outputs": [
    {
     "data": {
      "text/plain": [
       "array([[0., 0.],\n",
       "       [0., 0.],\n",
       "       [0., 0.],\n",
       "       [1., 1.],\n",
       "       [1., 1.],\n",
       "       [1., 1.]])"
      ]
     },
     "execution_count": 62,
     "metadata": {},
     "output_type": "execute_result"
    }
   ],
   "source": [
    "# Ligne coller au une après les autre\n",
    "N = np.vstack((K,L))\n",
    "N"
   ]
  },
  {
   "cell_type": "code",
   "execution_count": 41,
   "id": "8864550c-2c14-40a1-a650-712a4d3b8a8d",
   "metadata": {},
   "outputs": [
    {
     "data": {
      "text/plain": [
       "array([[0., 0., 1., 1.],\n",
       "       [0., 0., 1., 1.],\n",
       "       [0., 0., 1., 1.]])"
      ]
     },
     "execution_count": 41,
     "metadata": {},
     "output_type": "execute_result"
    }
   ],
   "source": [
    "# 1 -> colonne\n",
    "np.concatenate((K, L), axis= 1)"
   ]
  },
  {
   "cell_type": "code",
   "execution_count": 43,
   "id": "a1521760-5921-4da7-8923-fe3dc8b5593c",
   "metadata": {},
   "outputs": [
    {
     "data": {
      "text/plain": [
       "array([[0., 0.],\n",
       "       [0., 0.],\n",
       "       [0., 0.],\n",
       "       [1., 1.],\n",
       "       [1., 1.],\n",
       "       [1., 1.]])"
      ]
     },
     "execution_count": 43,
     "metadata": {},
     "output_type": "execute_result"
    }
   ],
   "source": [
    "# 0 -> ligne\n",
    "X = np.concatenate((K, L), axis= 0)\n",
    "X"
   ]
  },
  {
   "cell_type": "code",
   "execution_count": 45,
   "id": "b2ea72b2-0006-446f-8f7d-44bb08ed315f",
   "metadata": {},
   "outputs": [
    {
     "data": {
      "text/plain": [
       "array([[0., 0., 0., 0.],\n",
       "       [0., 0., 1., 1.],\n",
       "       [1., 1., 1., 1.]])"
      ]
     },
     "execution_count": 45,
     "metadata": {},
     "output_type": "execute_result"
    }
   ],
   "source": [
    "# reshape : remanipuler la forme du tableau pour lui donner un nouvel forme à condition qu'il nb initiale = nb finale \n",
    "Z = X.reshape((3,4))\n",
    "Z"
   ]
  },
  {
   "cell_type": "code",
   "execution_count": 53,
   "id": "48ee9e6d-fa8e-4dd5-ac3c-2898cbfe2443",
   "metadata": {},
   "outputs": [
    {
     "data": {
      "text/plain": [
       "array([[0., 0., 0., 0., 0., 0.],\n",
       "       [1., 1., 1., 1., 1., 1.]])"
      ]
     },
     "execution_count": 53,
     "metadata": {},
     "output_type": "execute_result"
    }
   ],
   "source": [
    "F = X.reshape((2,6))\n",
    "F"
   ]
  },
  {
   "cell_type": "code",
   "execution_count": 47,
   "id": "5348edd1-0adf-464e-9b26-8a493b591a48",
   "metadata": {},
   "outputs": [
    {
     "data": {
      "text/plain": [
       "(3, 1)"
      ]
     },
     "execution_count": 47,
     "metadata": {},
     "output_type": "execute_result"
    }
   ],
   "source": [
    "P = np.array([1,2,3])\n",
    "P= P.reshape((P.shape[0],1))\n",
    "P.shape"
   ]
  },
  {
   "cell_type": "code",
   "execution_count": 49,
   "id": "124ea9eb-ec9a-4e13-849d-2f9f38dd05d7",
   "metadata": {},
   "outputs": [
    {
     "data": {
      "text/plain": [
       "(3,)"
      ]
     },
     "execution_count": 49,
     "metadata": {},
     "output_type": "execute_result"
    }
   ],
   "source": [
    "P = P.squeeze()\n",
    "P.shape"
   ]
  },
  {
   "cell_type": "code",
   "execution_count": 51,
   "id": "2a0d50af-04db-40ca-a1a3-7894a8e2c173",
   "metadata": {},
   "outputs": [
    {
     "data": {
      "text/plain": [
       "array([0., 0., 0., 0., 0., 0., 1., 1., 1., 1., 1., 1.])"
      ]
     },
     "execution_count": 51,
     "metadata": {},
     "output_type": "execute_result"
    }
   ],
   "source": [
    "# Aplatir un tableau en une seul dimension\n",
    "Z.ravel()"
   ]
  },
  {
   "cell_type": "code",
   "execution_count": 153,
   "id": "dba4399b-2782-4234-8e94-71cf7685e57f",
   "metadata": {},
   "outputs": [],
   "source": [
    "def initialisation(m,n):\n",
    "    # m: nombre de lignes\n",
    "    # n: nombre de colonnes\n",
    "    # retourne une matrice aléatoire (m, n+1)\n",
    "    # avec une colonne biais (replie de '1') tout a droite\n",
    "    # reshape \n",
    "    # random.randn \n",
    "    # concatenate\n",
    "    D = np.ones((m, 1))\n",
    "    F = np.random.randn(m,n)\n",
    "    K = np.concatenate((F,D), axis =1 )\n",
    "    return K"
   ]
  },
  {
   "cell_type": "code",
   "execution_count": 155,
   "id": "f6adea1c-0e0c-4797-9cb7-8246f584b420",
   "metadata": {},
   "outputs": [
    {
     "data": {
      "text/plain": [
       "array([[ 1.08417424, -0.37123147, -0.6251293 , -0.35830499,  1.        ],\n",
       "       [ 2.27834768,  1.00738681,  0.12183351,  0.49315804,  1.        ],\n",
       "       [-1.34090349, -0.93557502,  0.03147052,  1.57908985,  1.        ]])"
      ]
     },
     "execution_count": 155,
     "metadata": {},
     "output_type": "execute_result"
    }
   ],
   "source": [
    "initialisation(3,4)"
   ]
  },
  {
   "cell_type": "code",
   "execution_count": 151,
   "id": "186390f0-5194-454d-bc9e-f6e2eb84d2ce",
   "metadata": {},
   "outputs": [
    {
     "data": {
      "text/plain": [
       "array([[ 0.76271137,  0.35018956,  0.90187736, -2.21279988,  1.        ],\n",
       "       [ 0.86891347, -1.25065263, -1.25712371, -0.49191062,  1.        ],\n",
       "       [-0.28027523, -1.30278044,  0.44614585, -0.36662028,  1.        ]])"
      ]
     },
     "execution_count": 151,
     "metadata": {},
     "output_type": "execute_result"
    }
   ],
   "source": [
    "def initialization(m,n):\n",
    "    X = np.random.randn(m,n)\n",
    "    X = np.concatenate((X, np.ones((X.shape[0],1))), axis = 1)\n",
    "    return X\n",
    "initialization(3,4)"
   ]
  },
  {
   "cell_type": "code",
   "execution_count": null,
   "id": "7ebc1813-f905-4ce3-9ce3-09789c94ac07",
   "metadata": {},
   "outputs": [],
   "source": []
  }
 ],
 "metadata": {
  "kernelspec": {
   "display_name": "Python [conda env:base] *",
   "language": "python",
   "name": "conda-base-py"
  },
  "language_info": {
   "codemirror_mode": {
    "name": "ipython",
    "version": 3
   },
   "file_extension": ".py",
   "mimetype": "text/x-python",
   "name": "python",
   "nbconvert_exporter": "python",
   "pygments_lexer": "ipython3",
   "version": "3.12.7"
  }
 },
 "nbformat": 4,
 "nbformat_minor": 5
}
