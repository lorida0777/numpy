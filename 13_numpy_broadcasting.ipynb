{
 "cells": [
  {
   "cell_type": "markdown",
   "id": "ea2a201f-9872-4626-97ca-3f38c7aaa4f0",
   "metadata": {},
   "source": [
    "#  Broadcasting \\ \n",
    "* A et B dimensions égales ou égales à 1\n",
    "* Même nb de ligne en A, même nb de ligne en B\n",
    "* Même nb de colonne en A , même nb de colonne en B\n",
    "* Lorsqu'il y a une différence dans A et B , donc la dimension respective est = 1  \n"
   ]
  },
  {
   "cell_type": "code",
   "execution_count": 2,
   "id": "1af01e03-fc67-43c3-bf22-0fe37dc42df8",
   "metadata": {},
   "outputs": [],
   "source": [
    "import numpy as np "
   ]
  },
  {
   "cell_type": "code",
   "execution_count": 8,
   "id": "74564401-369a-40d8-b8a7-01eb24662c04",
   "metadata": {},
   "outputs": [],
   "source": [
    "np.random.seed(0)\n",
    "A = np.random.randint(0,10,[2,3])\n",
    "B = np.ones((2,3))"
   ]
  },
  {
   "cell_type": "code",
   "execution_count": 11,
   "id": "5691af55-a478-472d-9316-47d6c8da914b",
   "metadata": {},
   "outputs": [
    {
     "data": {
      "text/plain": [
       "array([[5, 0, 3],\n",
       "       [3, 7, 9]])"
      ]
     },
     "execution_count": 11,
     "metadata": {},
     "output_type": "execute_result"
    }
   ],
   "source": [
    "A"
   ]
  },
  {
   "cell_type": "code",
   "execution_count": 13,
   "id": "c9c7ec51-ca91-43c6-8a3f-ee1146e8ef47",
   "metadata": {},
   "outputs": [
    {
     "data": {
      "text/plain": [
       "array([[1., 1., 1.],\n",
       "       [1., 1., 1.]])"
      ]
     },
     "execution_count": 13,
     "metadata": {},
     "output_type": "execute_result"
    }
   ],
   "source": [
    "B"
   ]
  },
  {
   "cell_type": "code",
   "execution_count": 15,
   "id": "10b1c1be-94f1-4180-9b09-0978e62dce06",
   "metadata": {},
   "outputs": [
    {
     "data": {
      "text/plain": [
       "array([[ 6.,  1.,  4.],\n",
       "       [ 4.,  8., 10.]])"
      ]
     },
     "execution_count": 15,
     "metadata": {},
     "output_type": "execute_result"
    }
   ],
   "source": [
    "A+B"
   ]
  },
  {
   "cell_type": "code",
   "execution_count": 17,
   "id": "c2bab50d-404c-4e00-895e-8431e4deee5e",
   "metadata": {},
   "outputs": [
    {
     "data": {
      "text/plain": [
       "array([[ 7,  2,  5],\n",
       "       [ 5,  9, 11]])"
      ]
     },
     "execution_count": 17,
     "metadata": {},
     "output_type": "execute_result"
    }
   ],
   "source": [
    "# Le broadcasting consiste à étendre les dimesions d'un tableau \n",
    "A + 2"
   ]
  },
  {
   "cell_type": "code",
   "execution_count": 19,
   "id": "4a04ed58-a177-4e72-9d79-262424d5bccc",
   "metadata": {},
   "outputs": [
    {
     "data": {
      "text/plain": [
       "array([[ 6.,  1.,  4.],\n",
       "       [ 4.,  8., 10.]])"
      ]
     },
     "execution_count": 19,
     "metadata": {},
     "output_type": "execute_result"
    }
   ],
   "source": [
    "# vecteur : comprend 2 éléments \n",
    "C = np.ones((2,1))\n",
    "A+C"
   ]
  },
  {
   "cell_type": "code",
   "execution_count": 23,
   "id": "8f56ceda-75f2-43e5-973f-8769ed62bfdd",
   "metadata": {},
   "outputs": [],
   "source": [
    "np.random.seed(0)\n",
    "M = np.random.randint(0,10,[4,1])\n",
    "N = np.ones((1,3))"
   ]
  },
  {
   "cell_type": "code",
   "execution_count": 25,
   "id": "0b0262d8-7250-44f8-972f-0e7b9c8c62df",
   "metadata": {},
   "outputs": [
    {
     "data": {
      "text/plain": [
       "array([[5],\n",
       "       [0],\n",
       "       [3],\n",
       "       [3]])"
      ]
     },
     "execution_count": 25,
     "metadata": {},
     "output_type": "execute_result"
    }
   ],
   "source": [
    "M"
   ]
  },
  {
   "cell_type": "code",
   "execution_count": 27,
   "id": "fc23366c-bc4b-4671-8ee9-8abd6e3f4226",
   "metadata": {},
   "outputs": [
    {
     "data": {
      "text/plain": [
       "array([[1., 1., 1.]])"
      ]
     },
     "execution_count": 27,
     "metadata": {},
     "output_type": "execute_result"
    }
   ],
   "source": [
    "N"
   ]
  },
  {
   "cell_type": "code",
   "execution_count": 29,
   "id": "d145061d-75f7-4e63-84a2-94000eca2d15",
   "metadata": {},
   "outputs": [
    {
     "data": {
      "text/plain": [
       "array([[6., 6., 6.],\n",
       "       [1., 1., 1.],\n",
       "       [4., 4., 4.],\n",
       "       [4., 4., 4.]])"
      ]
     },
     "execution_count": 29,
     "metadata": {},
     "output_type": "execute_result"
    }
   ],
   "source": [
    "M+N"
   ]
  },
  {
   "cell_type": "code",
   "execution_count": 49,
   "id": "0c14d8dd-292b-4beb-bf8e-4f799110dae7",
   "metadata": {},
   "outputs": [
    {
     "data": {
      "text/plain": [
       "array([1., 1., 1., 1., 1.])"
      ]
     },
     "execution_count": 49,
     "metadata": {},
     "output_type": "execute_result"
    }
   ],
   "source": [
    "np.random.seed(0)\n",
    "M = np.random.randint(0,10,[4,1])\n",
    "N = np.ones((5,))\n",
    "N"
   ]
  },
  {
   "cell_type": "code",
   "execution_count": 51,
   "id": "f3a57b22-832c-494a-8154-9b23adb0ac6a",
   "metadata": {},
   "outputs": [
    {
     "data": {
      "text/plain": [
       "array([[5],\n",
       "       [0],\n",
       "       [3],\n",
       "       [3]])"
      ]
     },
     "execution_count": 51,
     "metadata": {},
     "output_type": "execute_result"
    }
   ],
   "source": [
    "M"
   ]
  },
  {
   "cell_type": "code",
   "execution_count": 53,
   "id": "f8b883ea-e3a9-4b81-a9d0-b730febbd660",
   "metadata": {},
   "outputs": [
    {
     "data": {
      "text/plain": [
       "array([[6., 6., 6., 6., 6.],\n",
       "       [1., 1., 1., 1., 1.],\n",
       "       [4., 4., 4., 4., 4.],\n",
       "       [4., 4., 4., 4., 4.]])"
      ]
     },
     "execution_count": 53,
     "metadata": {},
     "output_type": "execute_result"
    }
   ],
   "source": [
    "M+N"
   ]
  },
  {
   "cell_type": "code",
   "execution_count": null,
   "id": "2e026e86-5f55-408d-b6bc-fa3012e95b07",
   "metadata": {},
   "outputs": [],
   "source": []
  }
 ],
 "metadata": {
  "kernelspec": {
   "display_name": "Python [conda env:base] *",
   "language": "python",
   "name": "conda-base-py"
  },
  "language_info": {
   "codemirror_mode": {
    "name": "ipython",
    "version": 3
   },
   "file_extension": ".py",
   "mimetype": "text/x-python",
   "name": "python",
   "nbconvert_exporter": "python",
   "pygments_lexer": "ipython3",
   "version": "3.12.7"
  }
 },
 "nbformat": 4,
 "nbformat_minor": 5
}
